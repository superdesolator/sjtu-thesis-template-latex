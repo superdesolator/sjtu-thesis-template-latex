{
 "cells": [
  {
   "cell_type": "markdown",
   "metadata": {},
   "source": [
    "# Introduction to Regular Expressions\n",
    "\n",
    "### November 30th, 2017"
   ]
  },
  {
   "cell_type": "markdown",
   "metadata": {},
   "source": [
    "<img src=\"regular_expressions.png\">"
   ]
  },
  {
   "cell_type": "markdown",
   "metadata": {},
   "source": [
    "Some people, when confronted with a problem, think \"I know, I'll use regular expressions.\" Now they have two problems.\n",
    "\n",
    "-Jamie Zawinski"
   ]
  },
  {
   "cell_type": "markdown",
   "metadata": {},
   "source": [
    "## Regular Expressions\n",
    "\n",
    "Regular expressions are a sequence of characters that define a search pattern in text. They have many uses including:\n",
    "\n",
    "* Validating Input: (abc)def-hijk is not a valid phone number\n",
    "* Web/Data Scraping: It should be noted that regex isn't really an appropriate tool to parse arbitrary html files, but that it can be useful in finding data under controlled circumstances\n",
    "* Basic Parsing: ```[a-z]+``` for example will return all lower case words within a text"
   ]
  },
  {
   "cell_type": "markdown",
   "metadata": {},
   "source": [
    "In python the re package uses a matching engine writen in C to quickly find all matches to any regular expression."
   ]
  },
  {
   "cell_type": "code",
   "execution_count": 1,
   "metadata": {},
   "outputs": [],
   "source": [
    "import re"
   ]
  },
  {
   "cell_type": "code",
   "execution_count": 2,
   "metadata": {},
   "outputs": [],
   "source": [
    "with open('shakespeare.txt') as f:\n",
    "    shakespeare = f.read()"
   ]
  },
  {
   "cell_type": "code",
   "execution_count": 3,
   "metadata": {},
   "outputs": [],
   "source": [
    "with open('unixdict.txt') as f:\n",
    "    unix_dict = f.read()"
   ]
  },
  {
   "cell_type": "markdown",
   "metadata": {},
   "source": [
    "The most basic regular expression is an exact match to a string of text."
   ]
  },
  {
   "cell_type": "markdown",
   "metadata": {},
   "source": [
    "## Search()\n",
    "\n",
    "```re.search(pattern, string, flags=0)```\n",
    "\n",
    "Scan through string looking for the first location where the regular expression pattern produces a match, and return a corresponding match object. Return None if no position in the string matches the pattern; note that this is different from finding a zero-length match at some point in the string."
   ]
  },
  {
   "cell_type": "code",
   "execution_count": null,
   "metadata": {},
   "outputs": [],
   "source": [
    "temp = re.search('poor Yoric', shakespeare)\n",
    "temp"
   ]
  },
  {
   "cell_type": "code",
   "execution_count": null,
   "metadata": {},
   "outputs": [],
   "source": [
    "dir(temp)"
   ]
  },
  {
   "cell_type": "code",
   "execution_count": null,
   "metadata": {},
   "outputs": [],
   "source": [
    "temp.span()"
   ]
  },
  {
   "cell_type": "code",
   "execution_count": null,
   "metadata": {},
   "outputs": [],
   "source": [
    "def window(match, text = shakespeare, size = 30):\n",
    "    print(text[match.start()-size:match.end()+size])"
   ]
  },
  {
   "cell_type": "code",
   "execution_count": null,
   "metadata": {
    "scrolled": true
   },
   "outputs": [],
   "source": [
    "window(temp)"
   ]
  },
  {
   "cell_type": "code",
   "execution_count": null,
   "metadata": {
    "collapsed": true
   },
   "outputs": [],
   "source": [
    "def shakes(text, size = 30):\n",
    "    temp = re.search(text, shakespeare)\n",
    "    window(temp, size = size)"
   ]
  },
  {
   "cell_type": "code",
   "execution_count": null,
   "metadata": {
    "scrolled": true
   },
   "outputs": [],
   "source": [
    "shakes('wherefore art thou')"
   ]
  },
  {
   "cell_type": "markdown",
   "metadata": {},
   "source": [
    "# Finish these quotes:\n",
    "\n",
    "\"let slip the\"  \n",
    "\"slings and arrows\""
   ]
  },
  {
   "cell_type": "markdown",
   "metadata": {},
   "source": [
    "## findall()\n",
    "\n",
    "```re.findall(pattern, string, flags=0)```\n",
    "\n",
    "Return all non-overlapping matches of pattern in string, as a list of strings. The string is scanned left-to-right, and matches are returned in the order found. If one or more groups are present in the pattern, return a list of groups; this will be a list of tuples if the pattern has more than one group. Empty matches are included in the result unless they touch the beginning of another match."
   ]
  },
  {
   "cell_type": "code",
   "execution_count": null,
   "metadata": {
    "scrolled": false
   },
   "outputs": [],
   "source": [
    "temp = re.findall('Yoric', shakespeare)\n",
    "print(temp)\n",
    "len(temp)"
   ]
  },
  {
   "cell_type": "markdown",
   "metadata": {},
   "source": [
    "# Flags\n",
    "\n",
    "| Flag | Long Flag | Description |\n",
    "|--|--|--|\n",
    "| re.I | re.IGNORECASE | Ignores the case when matching |\n",
    "| re.M | re.MULTILINE | Allows for ^,$ to be used within a long string at new lines |\n",
    "| re.X | re.VERBOSE | Allows for whitespace within regular expression (for formatting purposes)|"
   ]
  },
  {
   "cell_type": "code",
   "execution_count": null,
   "metadata": {},
   "outputs": [],
   "source": [
    "temp = re.findall('romeo', shakespeare, flags=re.IGNORECASE)\n",
    "print({a:temp.count(a) for a in temp})"
   ]
  },
  {
   "cell_type": "code",
   "execution_count": null,
   "metadata": {},
   "outputs": [],
   "source": [
    "temp = re.findall('^the', shakespeare, flags=re.I, re.M)\n",
    "print({a:temp.count(a) for a in temp})"
   ]
  },
  {
   "cell_type": "markdown",
   "metadata": {},
   "source": [
    "## Wildcards\n",
    "\n",
    "```.```  \n",
    "A symbol used to represent a single character (any character)."
   ]
  },
  {
   "cell_type": "code",
   "execution_count": null,
   "metadata": {
    "scrolled": true
   },
   "outputs": [],
   "source": [
    "temp = re.findall('swor.', shakespeare)\n",
    "print({a:temp.count(a) for a in temp})"
   ]
  },
  {
   "cell_type": "code",
   "execution_count": null,
   "metadata": {},
   "outputs": [],
   "source": [
    "temp = re.findall('.', shakespeare[0:1000])\n",
    "d = {a:temp.count(a) for a in temp}\n",
    "sorted(d.items(), key=lambda x: x[1], reverse=True)"
   ]
  },
  {
   "cell_type": "code",
   "execution_count": null,
   "metadata": {
    "scrolled": true
   },
   "outputs": [],
   "source": [
    "temp = re.findall('\\.', shakespeare[0:1000])\n",
    "d = {a:temp.count(a) for a in temp}\n",
    "print(d)"
   ]
  },
  {
   "cell_type": "markdown",
   "metadata": {},
   "source": [
    "# Questions:\n",
    "1. How many characters have six letter names that begin with 'Juli'?\n",
    "2. How many three letter words that start with a and end with an e?"
   ]
  },
  {
   "cell_type": "markdown",
   "metadata": {},
   "source": [
    "## Line Anchors\n",
    "\n",
    "* ^ is used to indicate the beginning of a line\n",
    "* $ is used to indicate the end of a line"
   ]
  },
  {
   "cell_type": "markdown",
   "metadata": {},
   "source": [
    "## Questions:\n",
    "1. How many words in the unix dictionary end in \"ing\"?\n",
    "2. How many words in the unix dictionary begin with \"q\"?"
   ]
  },
  {
   "cell_type": "markdown",
   "metadata": {},
   "source": [
    "## Reserved Characters\n",
    "\n",
    "```.^$*+?{}[]\\|()```\n",
    "\n",
    "These characters are all reserved by regex. If you want to find any one of them you need to use a \\"
   ]
  },
  {
   "cell_type": "code",
   "execution_count": null,
   "metadata": {},
   "outputs": [],
   "source": [
    "temp = r\"!@#*&^$(*!GHF\\S)@)$HKSJH{\\}{]][])&#+@_\\()*$#><MK?><POW#)@#_)(!$#+_)!()U(JM>?SF||\\098)}\"\n",
    "print(re.findall(\"\\\\\\\\\",temp))\n",
    "print(re.findall(\"\\[\",temp))\n",
    "\"\\\\\" in temp"
   ]
  },
  {
   "cell_type": "code",
   "execution_count": null,
   "metadata": {},
   "outputs": [],
   "source": [
    "temp[13]"
   ]
  },
  {
   "cell_type": "markdown",
   "metadata": {},
   "source": [
    "## The Character Class\n",
    "\n",
    "[] brackets can be used to create a selection of options for a character or characters within a regular expression  \n",
    "[^ ] selects any character not listed in the character class  \n",
    "\n",
    "For example:\n",
    "* [abc] matches a, b, or c\n",
    "* [^abc] matches every character except abc\n",
    "  \n",
    "Note that these are not seperated by a comma and are used to represent a single character.  \n",
    "\n",
    "Note also that only \\ and ^ are reserved inside a character class"
   ]
  },
  {
   "cell_type": "code",
   "execution_count": null,
   "metadata": {
    "scrolled": true
   },
   "outputs": [],
   "source": [
    "print(re.search(r'[\\\\]', '^$*+?{}[]\\|()'))"
   ]
  },
  {
   "cell_type": "code",
   "execution_count": null,
   "metadata": {
    "scrolled": true
   },
   "outputs": [],
   "source": [
    "print(re.search('[[]', '^$*+?{}[]\\|()'))"
   ]
  },
  {
   "cell_type": "code",
   "execution_count": null,
   "metadata": {},
   "outputs": [],
   "source": [
    "print(re.search('[]]', '^$*+?{}[]\\|()'))"
   ]
  },
  {
   "cell_type": "code",
   "execution_count": null,
   "metadata": {},
   "outputs": [],
   "source": [
    "print(re.search('[^]', '^$*+?{}[]\\|()'))"
   ]
  },
  {
   "cell_type": "markdown",
   "metadata": {},
   "source": [
    "## Questions:\n",
    "1. Find all two letter words that end in o other than 'no'.\n",
    "2. In the unix dict do more words end with an e,n,t,y or all other letters?\n",
    "3. How many words in the unix dictionary begin with \"q\" but are not followed by a u?"
   ]
  },
  {
   "cell_type": "markdown",
   "metadata": {},
   "source": [
    "## Character Class Ranges\n",
    "\n",
    "For numbers and characters you can define a range by using a -  \n",
    "\n",
    "For example:  \n",
    "* [a-e] represents a,b,c,d,e\n",
    "* [a-eA-E] represents a,b,c,d,e,A,B,C,D,E\n",
    "* [1-3] represents 1,2,3\n",
    "* [-1] represents -,1 (if you want to look for a dash it needs to be the first element of you character class)"
   ]
  },
  {
   "cell_type": "code",
   "execution_count": null,
   "metadata": {},
   "outputs": [],
   "source": [
    "test = 'abcdefghijklmnopqrstuvwxyzABCDEFGHIJKLMNOPQRSTUVWXYZ1234567890'\n",
    "re.findall('[M-S]',test)\n",
    "#re.findall('[c-e]',test)\n",
    "#re.findall('[Y-e]',test)"
   ]
  },
  {
   "cell_type": "markdown",
   "metadata": {},
   "source": [
    "## Character Groups\n",
    "|Code|Class Description|\n",
    "|--|--|\n",
    "| \\d | digit in 0123456789 | \n",
    "| \\D | any non-digit |\n",
    "| \\w | letters, digits, and ' '|\n",
    "| \\W | not letters, digits, or ' '|\n",
    "| \\t | tab |\n",
    "| \\r | return|\n",
    "| \\n | new line|\n",
    "| \\s | white space (' ', \\t, \\r, \\n)|\n",
    "| \\S | not white space |\n"
   ]
  },
  {
   "cell_type": "markdown",
   "metadata": {},
   "source": [
    "|Code|Equivalent|\n",
    "|--|--|\n",
    "| \\d | [0-9] | \n",
    "| \\D | [^\\d] |\n",
    "| \\w | [A-Za-z0-9 ]|\n",
    "| \\W | [^\\w]|\n",
    "| \\s | [ \\t\\r\\n]|\n",
    "| \\S | [^\\s] |"
   ]
  },
  {
   "cell_type": "markdown",
   "metadata": {},
   "source": [
    "## Questions:\n",
    "1. How many lines of Shakespear are there? (as formatted in the document)\n",
    "2. How many characters are there? (Hint: you shouldn't use a regular expression to find this)"
   ]
  },
  {
   "cell_type": "markdown",
   "metadata": {},
   "source": [
    "# or\n",
    "\n",
    "| (a vertical bar) represents 'or'  unless in () everything on either side is checkd individually\n",
    "  \n",
    "Example:"
   ]
  },
  {
   "cell_type": "code",
   "execution_count": null,
   "metadata": {},
   "outputs": [],
   "source": [
    "print(re.findall('cat|co.','cat call can cab core cold cot cob cathedral cobbler'))"
   ]
  },
  {
   "cell_type": "markdown",
   "metadata": {},
   "source": [
    "## Regular expression groups\n",
    "\n",
    "() creates a capturing group, which only returns values represented in the group.  \n",
    "  \n",
    "Example:\n",
    "'I love (cats|dogs)' would match to 'I love cats' and 'I love dogs' but return 'cats' and 'dogs'.\n",
    "'I (love|hate) (cats|dogs).' would return to all 4 combinations of the four.\n",
    "\n",
    "(?:) creates a non-capturing group."
   ]
  },
  {
   "cell_type": "markdown",
   "metadata": {},
   "source": [
    "## Questions:\n",
    "1. Does I love or hate more in Shakespeare?"
   ]
  },
  {
   "cell_type": "markdown",
   "metadata": {},
   "source": [
    "# Optional character ?\n",
    "\n",
    "Placing a question mark after something indicates that it is an optional part of the match and not a required part.  \n",
    "  \n",
    "For example:\n",
    "* d?ate would match both date and ate\n",
    "* [dfg]?ate would match ate, date, fate, gate"
   ]
  },
  {
   "cell_type": "code",
   "execution_count": null,
   "metadata": {
    "collapsed": true
   },
   "outputs": [],
   "source": [
    "temp = re.findall(\"night\", shakespeare)\n",
    "d = {a:temp.count(a) for a in temp}\n",
    "print(d)"
   ]
  },
  {
   "cell_type": "code",
   "execution_count": null,
   "metadata": {},
   "outputs": [],
   "source": [
    "temp = re.findall(\"k?night\", shakespeare)\n",
    "d = {a:temp.count(a) for a in temp}\n",
    "print(d)"
   ]
  },
  {
   "cell_type": "code",
   "execution_count": null,
   "metadata": {},
   "outputs": [],
   "source": [
    "temp = re.findall(\"[fs]?light\", shakespeare)\n",
    "d = {a:temp.count(a) for a in temp}\n",
    "print(d)"
   ]
  },
  {
   "cell_type": "code",
   "execution_count": null,
   "metadata": {},
   "outputs": [],
   "source": [
    "re.I\n",
    "temp = re.findall(\"kn|[enlf]ight\", shakespeare)\n",
    "d = {a:temp.count(a) for a in temp}\n",
    "print(d)"
   ]
  },
  {
   "cell_type": "markdown",
   "metadata": {},
   "source": [
    "## Questions:\n",
    "1. What is the relative frequency of 'ie' vs 'ei' in Shakespeare?\n",
    "2. What about after c?\n",
    "3. What is the relative frequency of 'ie' vs 'ei' in the dictionary?\n",
    "4. What about after c?"
   ]
  },
  {
   "cell_type": "markdown",
   "metadata": {},
   "source": [
    "## Quantifiers\n",
    "\n",
    "| Code | Description |\n",
    "|--|--|\n",
    "|x* | 0 or more reptitions of x |\n",
    "|x+ | 1 or more reptitions of x |\n",
    "|x? | 0 or 1 reptitions of x |\n",
    "|x{n} | exactly n reptitions of x |\n",
    "|x{n,} | n or more reptitions of x |\n",
    "|x{n,m} | n to m reptitions of x |"
   ]
  },
  {
   "cell_type": "markdown",
   "metadata": {},
   "source": [
    "By default most regex engines are 'Greedy' returning the largest expression it can over a string."
   ]
  },
  {
   "cell_type": "code",
   "execution_count": null,
   "metadata": {
    "scrolled": false
   },
   "outputs": [],
   "source": [
    "print(re.findall('i+','iiiiiiiiiiiiiiiiiiiiiiiii'))"
   ]
  },
  {
   "cell_type": "markdown",
   "metadata": {},
   "source": [
    "In Python you can make it 'Lazy' by adding a question mark after the descriptor."
   ]
  },
  {
   "cell_type": "code",
   "execution_count": null,
   "metadata": {},
   "outputs": [],
   "source": [
    "print(re.findall('i+?','iiiiiiiiiiiiiiiiiiiiiiiii'))"
   ]
  },
  {
   "cell_type": "code",
   "execution_count": null,
   "metadata": {
    "scrolled": true
   },
   "outputs": [],
   "source": [
    "print(re.findall('i.*(?:hate|love)','i love to hate to love'))\n",
    "print(re.findall('i.*?(?:hate|love)','i love to hate to love'))"
   ]
  },
  {
   "cell_type": "code",
   "execution_count": null,
   "metadata": {
    "collapsed": true
   },
   "outputs": [],
   "source": [
    "phone = '''Smith, BOB A. (756) 734-2345\n",
    "ROBERT Allen Smith\n",
    "Smithe, Cindy\n",
    "103 Pennsylvania Ave. NW, Washington, DC 20216\n",
    "508 First St. NW, Washington, DC 20001\n",
    "650 1st st NE, Washington, DC 20002 1800-635-0978\n",
    "3000 K Street NW, Washington, DC 20007\n",
    "1560 Wilson Blvd, Arlington, VA 22209\n",
    "1-800-123-4567\n",
    "1. 800.123.4567\n",
    "18001234567\n",
    "800.123.4567 extra chars\n",
    "800 123 4567\n",
    "800,123,4567oops\n",
    "1(800) 789-1234\n",
    "1   (800) 123-4567\n",
    "1    (800) 123-4567\n",
    "8882344567'''"
   ]
  },
  {
   "cell_type": "code",
   "execution_count": null,
   "metadata": {},
   "outputs": [],
   "source": [
    "temp = re.findall('\\d{3}.\\d{3}.\\d{4}',phone)\n",
    "for n in temp:print(n)"
   ]
  },
  {
   "cell_type": "code",
   "execution_count": null,
   "metadata": {
    "scrolled": true
   },
   "outputs": [],
   "source": [
    "temp = re.findall('\\d{3}\\D*\\d{3}\\D*\\d{4}',phone)\n",
    "for n in temp:print(n)"
   ]
  },
  {
   "cell_type": "code",
   "execution_count": null,
   "metadata": {},
   "outputs": [],
   "source": [
    "temp = re.findall('^1?\\d{3}\\D*\\d{3}\\D*\\d{4}',phone,re.M)\n",
    "for n in temp:print(n)"
   ]
  },
  {
   "cell_type": "markdown",
   "metadata": {},
   "source": [
    "## Substitution\n",
    "\n",
    "re.sub(pattern, repl, string[, count, flags])"
   ]
  },
  {
   "cell_type": "code",
   "execution_count": null,
   "metadata": {
    "collapsed": true
   },
   "outputs": [],
   "source": [
    "gettysburg = '''\n",
    "Four score and seven years ago our fathers brought forth, on this continent, a new nation, conceived in liberty, \n",
    "and dedicated to the proposition that all men are created equal. Now we are engaged in a great civil war, testing \n",
    "whether that nation, or any nation so conceived, and so dedicated, can long endure. We are met on a great battle- field \n",
    "of that war. We have come to dedicate a portion of that field, as a final resting- place for those who here gave their lives, \n",
    "that that nation might live. It is altogether fitting and proper that we should do this. But, in a larger sense, we cannot \n",
    "dedicate, we cannot consecrate— we cannot hallow— this ground. The brave men, living and dead, who struggled here, \n",
    "have consecrated it far above our poor power to add or detract. The world will little note, nor long remember what we say \n",
    "here, but it can never forget what they did here. It is for us the living, rather, to be dedicated here to the unfinished \n",
    "work which they who fought here have thus far so nobly advanced. It is rather for us to be here dedicated to the great task \n",
    "remaining before us— that from these honored dead we take increased devotion to that cause for which they here gave the last \n",
    "full measure of devotion— that we here highly resolve that these dead shall not have died in vain— that this nation, under God, \n",
    "shall have a new birth of freedom, and that government of the people, by the people, for the people, shall not perish from the \n",
    "earth.'''"
   ]
  },
  {
   "cell_type": "markdown",
   "metadata": {},
   "source": [
    "## Questions:\n",
    "1. Remove all punctuation from the Gettysburg Address.\n",
    "2. Approximately how many words are there in the Gettysburg Address?"
   ]
  },
  {
   "cell_type": "markdown",
   "metadata": {},
   "source": [
    "## Things you should probably use a specialized package for:\n",
    "\n",
    "Word stemming: package: nltk Example: stems, stemmer, stemming, stemmed all have stem as the root  \n",
    "html parsing: package: beuautifulsoup, lxml  (parsing in general should be left to other means)"
   ]
  },
  {
   "cell_type": "markdown",
   "metadata": {},
   "source": [
    "## Regular Expressions can get complicated:\n",
    "Write a regular expression for emails:\n",
    "\n",
    "The name must be at least one character long and may contain:\n",
    "* Uppercase and lowercase English letters (a-z, A-Z)\n",
    "* Digits 0 to 9\n",
    "* Characters ! # $ % & ' * + - / = ? ^ _ ` { | } ~\n",
    "* Character . (dot, period, full stop) provided that it is not the first or last character, and provided also that it does not appear two or more times consecutively.\n",
    "\n",
    "The domain must be at least one character long and may contain:\n",
    "The Internet standards (Request for Comments) for protocols mandate that component hostname labels may contain only the ASCII letters a through z (in a case-insensitive manner), the digits 0 through 9, and the hyphen (-), though it cannot end with a hyphen."
   ]
  },
  {
   "cell_type": "markdown",
   "metadata": {},
   "source": [
    "# A 99.999% solution"
   ]
  },
  {
   "cell_type": "markdown",
   "metadata": {},
   "source": [
    "```(?:[a-z0-9!#$%&'*+/=?^_`{|}~-]+(?:\\.[a-z0-9!#$%&'*+/=?^_`{|}~-]+)*|\"(?:[\\x01-\\x08\\x0b\\x0c\\x0e-\\x1f\\x21\\x23-\\x5b\\x5d-\\x7f]|\\\\[\\x01-\\x09\\x0b\\x0c\\x0e-\\x7f])*\")@(?:(?:[a-z0-9](?:[a-z0-9-]*[a-z0-9])?\\.)+[a-z0-9](?:[a-z0-9-]*[a-z0-9])?|\\[(?:(?:(2(5[0-5]|[0-4][0-9])|1[0-9][0-9]|[1-9]?[0-9]))\\.){3}(?:(2(5[0-5]|[0-4][0-9])|1[0-9][0-9]|[1-9]?[0-9])|[a-z0-9-]*[a-z0-9]:(?:[\\x01-\\x08\\x0b\\x0c\\x0e-\\x1f\\x21-\\x5a\\x53-\\x7f]|\\\\[\\x01-\\x09\\x0b\\x0c\\x0e-\\x7f])+)\\])```"
   ]
  },
  {
   "cell_type": "markdown",
   "metadata": {},
   "source": [
    "## A 99% solution"
   ]
  },
  {
   "cell_type": "markdown",
   "metadata": {},
   "source": [
    "(^[a-zA-Z0-9_.+-]+@[a-zA-Z0-9-]+\\.[a-zA-Z0-9-.]+$)"
   ]
  },
  {
   "cell_type": "markdown",
   "metadata": {},
   "source": [
    "http://www.regular-expressions.info/email.html"
   ]
  },
  {
   "cell_type": "markdown",
   "metadata": {},
   "source": [
    "<img src=\"regex_email.png\">"
   ]
  },
  {
   "cell_type": "markdown",
   "metadata": {},
   "source": [
    "## Fun links:\n",
    "\n",
    "Regex Golf with interactive list  \n",
    "https://alf.nu/RegexGolf  \n",
    "\n",
    "On playing Regex Golf  \n",
    "http://nbviewer.jupyter.org/url/norvig.com/ipython/xkcd1313.ipynb  \n",
    "http://nbviewer.jupyter.org/url/norvig.com/ipython/xkcd1313-part2.ipynb  \n",
    "\n",
    "On not using it to parse html  \n",
    "http://stackoverflow.com/questions/1732348/regex-match-open-tags-except-xhtml-self-contained-tags  \n"
   ]
  }
 ],
 "metadata": {
  "kernelspec": {
   "display_name": "Python [default]",
   "language": "python",
   "name": "python3"
  },
  "language_info": {
   "codemirror_mode": {
    "name": "ipython",
    "version": 3
   },
   "file_extension": ".py",
   "mimetype": "text/x-python",
   "name": "python",
   "nbconvert_exporter": "python",
   "pygments_lexer": "ipython3",
   "version": "3.5.4"
  }
 },
 "nbformat": 4,
 "nbformat_minor": 2
}
